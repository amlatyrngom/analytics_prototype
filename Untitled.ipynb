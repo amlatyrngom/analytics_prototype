{
 "cells": [
  {
   "cell_type": "code",
   "execution_count": 12,
   "id": "filled-syntax",
   "metadata": {},
   "outputs": [
    {
     "ename": "AttributeError",
     "evalue": "'Alias' object has no attribute 'colname'",
     "output_type": "error",
     "traceback": [
      "\u001b[0;31m---------------------------------------------------------------------------\u001b[0m",
      "\u001b[0;31mAttributeError\u001b[0m                            Traceback (most recent call last)",
      "\u001b[0;32m<ipython-input-12-10c0c10f2115>\u001b[0m in \u001b[0;36m<module>\u001b[0;34m\u001b[0m\n\u001b[1;32m      3\u001b[0m \u001b[0mflat_query\u001b[0m \u001b[0;34m=\u001b[0m \u001b[0;34m\"SELECT COUNT(*) FROM table1 t1, table2 WHERE pk=fk AND t1.col1 < table2.col1 AND col0 < 0\"\u001b[0m\u001b[0;34m\u001b[0m\u001b[0;34m\u001b[0m\u001b[0m\n\u001b[1;32m      4\u001b[0m \u001b[0mstatement\u001b[0m \u001b[0;34m=\u001b[0m \u001b[0mpsqlparse\u001b[0m\u001b[0;34m.\u001b[0m\u001b[0mparse\u001b[0m\u001b[0;34m(\u001b[0m\u001b[0mflat_query\u001b[0m\u001b[0;34m)\u001b[0m\u001b[0;34m[\u001b[0m\u001b[0;36m0\u001b[0m\u001b[0;34m]\u001b[0m\u001b[0;34m\u001b[0m\u001b[0;34m\u001b[0m\u001b[0m\n\u001b[0;32m----> 5\u001b[0;31m \u001b[0mstatement\u001b[0m\u001b[0;34m.\u001b[0m\u001b[0mfrom_clause\u001b[0m\u001b[0;34m[\u001b[0m\u001b[0;36m0\u001b[0m\u001b[0;34m]\u001b[0m\u001b[0;34m.\u001b[0m\u001b[0malias\u001b[0m\u001b[0;34m.\u001b[0m\u001b[0mcolname\u001b[0m\u001b[0;34m\u001b[0m\u001b[0;34m\u001b[0m\u001b[0m\n\u001b[0m",
      "\u001b[0;31mAttributeError\u001b[0m: 'Alias' object has no attribute 'colname'"
     ]
    }
   ],
   "source": [
    "import psqlparse\n",
    "\n",
    "flat_query = \"SELECT COUNT(*) FROM table1 t1, table2 WHERE pk=fk AND t1.col1 < table2.col1 AND col0 < 0\"\n",
    "statement = psqlparse.parse(flat_query)[0]\n",
    "statement.from_clause[0].alias.colname"
   ]
  },
  {
   "cell_type": "code",
   "execution_count": null,
   "id": "departmental-produce",
   "metadata": {},
   "outputs": [],
   "source": []
  }
 ],
 "metadata": {
  "kernelspec": {
   "display_name": "Python 3",
   "language": "python",
   "name": "python3"
  },
  "language_info": {
   "codemirror_mode": {
    "name": "ipython",
    "version": 3
   },
   "file_extension": ".py",
   "mimetype": "text/x-python",
   "name": "python",
   "nbconvert_exporter": "python",
   "pygments_lexer": "ipython3",
   "version": "3.7.9"
  }
 },
 "nbformat": 4,
 "nbformat_minor": 5
}
